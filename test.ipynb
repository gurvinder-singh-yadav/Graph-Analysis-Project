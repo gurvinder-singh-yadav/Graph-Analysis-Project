{
 "cells": [
  {
   "cell_type": "code",
   "execution_count": 25,
   "metadata": {},
   "outputs": [],
   "source": [
    "import networkx as nx\n",
    "import os\n",
    "import pandas as pd\n",
    "import json\n",
    "\n",
    "class GraphModel:\n",
    "    def __init__(self, root=\".\") -> None:\n",
    "        self.root = root\n",
    "        self.node_features()\n",
    "        self.gen()\n",
    "        self.node_labels()\n",
    "        self.add_edges()\n",
    "    def raw_files(self):\n",
    "        dic = {\"edges_list\":\"musae_git_edges.csv\",\n",
    "                \"nodes_label\":\"musae_git_target.csv\",\n",
    "                \"node_features\":\"musae_git_features.json\"}\n",
    "        return dic\n",
    "    def node_labels(self):\n",
    "        df = pd.read_csv(\"data/musae_git_target.csv\")\n",
    "        label_matrix = df[[\"id\", \"ml_target\"]].values\n",
    "        for key, label in label_matrix:\n",
    "            self.features[str(key)][\"label\"] = label\n",
    "    def add_edges(self):\n",
    "        path = self.root + \"/\" + self.raw_files()[\"edges_list\"]\n",
    "        edge_list = tuple(pd.read_csv(path).values)\n",
    "        self.Graph.add_edges_from(edge_list)\n",
    "    def node_features(self):\n",
    "        js = self.raw_files()[\"node_features\"]\n",
    "        jsObject = open(self.root + \"/\" + js)\n",
    "        js_data = json.load(jsObject)\n",
    "        node_features = {}\n",
    "        nodes = []\n",
    "        for key, value in js_data.items():\n",
    "            features = {}\n",
    "            nodes.append(key)\n",
    "            features[\"feat\"] = value\n",
    "            # for index, feature in enumerate(value):\n",
    "            #     features[str(index)] = feature\n",
    "            node_features[str(key)] = features\n",
    "        self.features = node_features\n",
    "        self.nodes = nodes\n",
    "        self.node_labels()\n",
    "    def gen(self):\n",
    "        self.Graph = nx.Graph()\n",
    "        self.Graph.add_nodes_from(self.nodes)\n",
    "        nx.set_node_attributes(self.Graph, self.features)\n",
    "    def finalGraphModel(self):\n",
    "        return self.Graph\n"
   ]
  },
  {
   "cell_type": "code",
   "execution_count": 28,
   "metadata": {},
   "outputs": [],
   "source": [
    "\n",
    "\n",
    "graphObject = GraphModel(\"data\")\n",
    "G = graphObject.finalGraphModel()\n"
   ]
  },
  {
   "cell_type": "code",
   "execution_count": 31,
   "metadata": {},
   "outputs": [
    {
     "data": {
      "text/plain": [
       "5241"
      ]
     },
     "execution_count": 31,
     "metadata": {},
     "output_type": "execute_result"
    }
   ],
   "source": [
    "len(list(nx.bridges(G)))"
   ]
  },
  {
   "cell_type": "code",
   "execution_count": null,
   "metadata": {},
   "outputs": [],
   "source": []
  }
 ],
 "metadata": {
  "kernelspec": {
   "display_name": "Python 3.10.6 ('yelp')",
   "language": "python",
   "name": "python3"
  },
  "language_info": {
   "codemirror_mode": {
    "name": "ipython",
    "version": 3
   },
   "file_extension": ".py",
   "mimetype": "text/x-python",
   "name": "python",
   "nbconvert_exporter": "python",
   "pygments_lexer": "ipython3",
   "version": "3.10.6"
  },
  "orig_nbformat": 4,
  "vscode": {
   "interpreter": {
    "hash": "e3ac8243146a044d3768debf5ffc1a2f3226152204990dbbb5190dddede344c1"
   }
  }
 },
 "nbformat": 4,
 "nbformat_minor": 2
}
